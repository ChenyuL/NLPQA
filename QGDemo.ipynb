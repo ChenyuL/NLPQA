{
  "nbformat": 4,
  "nbformat_minor": 0,
  "metadata": {
    "colab": {
      "provenance": [],
      "collapsed_sections": [],
      "authorship_tag": "ABX9TyNNqOdKW+ex996obByEM1g7",
      "include_colab_link": true
    },
    "kernelspec": {
      "name": "python3",
      "display_name": "Python 3"
    },
    "language_info": {
      "name": "python"
    }
  },
  "cells": [
    {
      "cell_type": "markdown",
      "metadata": {
        "id": "view-in-github",
        "colab_type": "text"
      },
      "source": [
        "<a href=\"https://colab.research.google.com/github/ChenyuL/NLPQA/blob/main/QGDemo.ipynb\" target=\"_parent\"><img src=\"https://colab.research.google.com/assets/colab-badge.svg\" alt=\"Open In Colab\"/></a>"
      ]
    },
    {
      "cell_type": "markdown",
      "source": [
        "# 0. Prepare the Environment "
      ],
      "metadata": {
        "id": "slfXcccwtaXf"
      }
    },
    {
      "cell_type": "code",
      "execution_count": 1,
      "metadata": {
        "colab": {
          "base_uri": "https://localhost:8080/"
        },
        "id": "_wgQ5_T0sfdr",
        "outputId": "6be50f4c-56bd-4d97-f922-0a7f0cd6673f"
      },
      "outputs": [
        {
          "output_type": "stream",
          "name": "stdout",
          "text": [
            "Mounted at /content/drive\n"
          ]
        }
      ],
      "source": [
        "from google.colab import drive\n",
        "drive.mount('/content/drive')"
      ]
    },
    {
      "cell_type": "code",
      "source": [
        "# cp -r '/content/drive/MyDrive/11611NatrualLanguageProcessingProject/' '/content'\n",
        "# cd 11611NatrualLanguageProcessingProject'"
      ],
      "metadata": {
        "id": "ka7jruxyspqe"
      },
      "execution_count": 14,
      "outputs": []
    }
  ]
}